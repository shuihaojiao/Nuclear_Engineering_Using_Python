{
 "cells": [
  {
   "cell_type": "markdown",
   "metadata": {},
   "source": [
    "# 学习离散过程和雅可比和高斯赛德尔迭代"
   ]
  },
  {
   "cell_type": "markdown",
   "metadata": {},
   "source": [
    "数值求解一维泊松方程 d²φ/dx² = f(x)"
   ]
  },
  {
   "cell_type": "markdown",
   "metadata": {},
   "source": [
    "### ⚙️ 算法流程\n",
    "\n",
    "代码通过以下步骤实现求解：\n",
    "\n",
    "1.  **空间离散化 (Discretization)**\n",
    "    *   将 `[0, 1]` 区间划分为 `N=64` 个子区间，格点间距为 `dx = L/N`。\n",
    "    *   二阶导数使用**中心差分**近似：`d²φ/dx² ≈ (φ[j+1] - 2φ[j] + φ[j-1]) / dx²`。\n",
    "\n",
    "2.  **高斯-赛德尔迭代 (Gauss-Seidel Iteration)**\n",
    "    *   这是代码的核心。它在一个循环中不断更新解 `φ` 的近似值，直到收敛。\n",
    "    *   **更新公式**: 循环中 `new[j] = (phi[j+1] + new[j-1] - dx² * f[j-1]) / 2` 这一行，正是从离散化的泊松方程推导出的高斯-赛德尔迭代公式。它在计算点 `j` 的新值时，立即使用了点 `j-1` 刚刚计算出的新值 `new[j-1]`。\n",
    "\n",
    "3.  **残差计算 (Residual Calculation)**\n",
    "    *   在每次迭代后，代码计算**残差 (residual)** `r`，其定义为 `r = f(x) - Aφ_new`，其中 `Aφ_new` 是当前解 `new` 带入离散方程左侧的结果。\n",
    "    *   残差 `r` 的大小衡量了当前解 `new` 满足原方程的程度。`r` 越小，解越精确。\n",
    "\n",
    "4.  **收敛判断 (Convergence Check)**\n",
    "    *   循环的终止条件是**最大残差的绝对值** `max(abs(r))` 小于阈值 `0.001`，或达到最大迭代次数 `10000`。"
   ]
  },
  {
   "cell_type": "code",
   "execution_count": null,
   "metadata": {},
   "outputs": [],
   "source": []
  }
 ],
 "metadata": {
  "language_info": {
   "name": "python"
  }
 },
 "nbformat": 4,
 "nbformat_minor": 2
}
