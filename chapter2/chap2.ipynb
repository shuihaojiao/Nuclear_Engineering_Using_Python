{
 "cells": [
  {
   "cell_type": "markdown",
   "metadata": {},
   "source": [
    "# 第一次计算"
   ]
  },
  {
   "cell_type": "markdown",
   "metadata": {},
   "source": [
    "算例1：\n",
    "\n",
    "计算下面的y:\n",
    "$$y=\\frac{1}{\\sqrt{x}}$$\n",
    "\n",
    "迭代式：\n",
    "$$x=\\frac{1}{\\sqrt{x}}$$\n",
    "\n",
    "残差项：\n",
    "$$r=y \\sqrt{x}-1$$\n",
    "\n",
    "当r<1e-6时，迭代停止。"
   ]
  },
  {
   "cell_type": "code",
   "execution_count": 10,
   "metadata": {},
   "outputs": [
    {
     "name": "stdout",
     "output_type": "stream",
     "text": [
      "ic| 'Hey, icecream is installed and working.'\n"
     ]
    }
   ],
   "source": [
    "import math\n",
    "# from icecream import ic\n",
    "try:\n",
    "    from icecream import ic, colorize as ic_colorize\n",
    "    ic.configureOutput(outputFunction=lambda s: print(ic_colorize(s)))\n",
    "    ic('Hey, icecream is installed and working.')\n",
    "except ImportError:  # Graceful fallback if IceCream isn't installed.\n",
    "    ic = print\n",
    "    ic('Using work around as icecream is not installed.')"
   ]
  },
  {
   "cell_type": "code",
   "execution_count": 15,
   "metadata": {},
   "outputs": [
    {
     "name": "stdout",
     "output_type": "stream",
     "text": [
      "1/sqrt(3) =0.5773504997552141 after 4845299 iterations\n"
     ]
    }
   ],
   "source": [
    "\n",
    "x0=3\n",
    "converged=0\n",
    "eps=1e-6\n",
    "x=x0\n",
    "iter=0\n",
    "while not converged:\n",
    "    iter+=1\n",
    "    x=x - 0.5*eps\n",
    "    r=math.fabs(x*math.sqrt(x0)-1.0)\n",
    "    # ic(r)\n",
    "    if r<eps:\n",
    "        converged=1\n",
    "print(f\"1/sqrt({x0}) =\" + str(x) + \" after \" + str(iter) + \" iterations\")       "
   ]
  }
 ],
 "metadata": {
  "kernelspec": {
   "display_name": "nuclearpy",
   "language": "python",
   "name": "python3"
  },
  "language_info": {
   "codemirror_mode": {
    "name": "ipython",
    "version": 3
   },
   "file_extension": ".py",
   "mimetype": "text/x-python",
   "name": "python",
   "nbconvert_exporter": "python",
   "pygments_lexer": "ipython3",
   "version": "3.12.0"
  }
 },
 "nbformat": 4,
 "nbformat_minor": 2
}
